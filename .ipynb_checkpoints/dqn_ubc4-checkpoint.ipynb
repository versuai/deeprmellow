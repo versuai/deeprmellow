{
 "cells": [
  {
   "cell_type": "code",
   "execution_count": 166,
   "metadata": {},
   "outputs": [],
   "source": [
    "import gym\n",
    "# env = gym.make('Acrobot-v1')\n",
    "env = gym.make('CartPole-v0')"
   ]
  },
  {
   "cell_type": "code",
   "execution_count": 167,
   "metadata": {},
   "outputs": [],
   "source": [
    "state_dimension = env.observation_space.shape[0]\n",
    "action_dimension = env.action_space.n"
   ]
  },
  {
   "cell_type": "code",
   "execution_count": 168,
   "metadata": {},
   "outputs": [
    {
     "name": "stdout",
     "output_type": "stream",
     "text": [
      "State Dimensions: 4\n",
      "Action Dimensions: 2\n"
     ]
    }
   ],
   "source": [
    "print('State Dimensions:', state_dimension)\n",
    "print('Action Dimensions:', action_dimension)"
   ]
  },
  {
   "cell_type": "code",
   "execution_count": 169,
   "metadata": {},
   "outputs": [
    {
     "name": "stdout",
     "output_type": "stream",
     "text": [
      "[ 0.04274743  0.04748874  0.02704313 -0.01676386]\n"
     ]
    }
   ],
   "source": [
    "state = env.reset()\n",
    "print(state)"
   ]
  },
  {
   "cell_type": "code",
   "execution_count": 170,
   "metadata": {},
   "outputs": [],
   "source": [
    "import math\n",
    "import random\n",
    "import numpy as np\n",
    "import matplotlib.pyplot as plt\n",
    "import torch\n",
    "import torch.nn as nn\n",
    "import torch.nn.functional as F\n",
    "from IPython.display import clear_output\n",
    "import torch.optim as optim\n",
    "%matplotlib inline"
   ]
  },
  {
   "cell_type": "code",
   "execution_count": 171,
   "metadata": {},
   "outputs": [],
   "source": [
    "def plot(frame_idx, rewards):\n",
    "    clear_output(True)\n",
    "    plt.figure(figsize=(20,5))\n",
    "    plt.subplot(131)\n",
    "    plt.title('frame %s. reward: %s' % (frame_idx, rewards[-1]))\n",
    "    plt.plot(rewards)\n",
    "    plt.show()"
   ]
  },
  {
   "cell_type": "code",
   "execution_count": 172,
   "metadata": {},
   "outputs": [],
   "source": [
    "class ReplayMemory():\n",
    "    def __init__(self, capacity):\n",
    "        self.capacity = capacity\n",
    "        self.memory = []\n",
    "        self.position = 0\n",
    "        \n",
    "    def push_to_memory(self, state, action, reward, state_plus_1):\n",
    "        if len(self.memory) < self.capacity:\n",
    "            self.memory.append(None)\n",
    "        self.memory[self.position] = state, action, reward, state_plus_1\n",
    "        self.position = (self.position + 1) % self.capacity\n",
    "        \n",
    "    def pull_from_memory(self, batch_size):\n",
    "        batch = random.sample(self.memory, batch_size)\n",
    "        state, action, reward, state_plus_1= map(np.stack, zip(*batch))\n",
    "        return state, action, reward, state_plus_1\n",
    "    \n",
    "    def __len__(self):\n",
    "        return len(self.memory)    "
   ]
  },
  {
   "cell_type": "code",
   "execution_count": 173,
   "metadata": {},
   "outputs": [],
   "source": [
    "def fanin_init(size, fanin=None):\n",
    "    fanin = fanin or size[0]\n",
    "    v = 1./np.sqrt(fanin)\n",
    "    return torch.Tensor(size).uniform_(-v,v)"
   ]
  },
  {
   "cell_type": "code",
   "execution_count": 174,
   "metadata": {},
   "outputs": [],
   "source": [
    "class DQN(nn.Module):\n",
    "    def __init__(self, state_dim, hidden_dim, action_dim, init_w=3e-3):\n",
    "        super(DQN, self).__init__()\n",
    "        \n",
    "        self.linear1 = nn.Linear(in_features=state_dim, out_features=hidden_dim)\n",
    "        self.linear2 = nn.Linear(in_features=hidden_dim, out_features=hidden_dim)\n",
    "        self.linear3 = nn.Linear(in_features=hidden_dim, out_features=action_dim)\n",
    "        \n",
    "        #self.linear1.weight.data.uniform_(-init_w, init_w)\n",
    "        #self.linear1.bias.data.uniform_(-init_w, init_w)\n",
    "        #self.linear2.weight.data.uniform_(-init_w, init_w)\n",
    "        #self.linear2.bias.data.uniform_(-init_w, init_w)\n",
    "        #self.linear3.weight.data.uniform_(-init_w, init_w)\n",
    "        #self.linear3.bias.data.uniform_(-init_w, init_w)\n",
    "        \n",
    "    def mish(self, x):\n",
    "        return x*(torch.tanh(F.softplus(x)))\n",
    "        \n",
    "    def forward(self, state):\n",
    "        state = torch.FloatTensor(state)\n",
    "        x = self.mish(self.linear1(state))\n",
    "        x = self.mish(self.linear2(x))\n",
    "        x = self.linear3(x)\n",
    "        return x"
   ]
  },
  {
   "cell_type": "code",
   "execution_count": 175,
   "metadata": {},
   "outputs": [
    {
     "name": "stdout",
     "output_type": "stream",
     "text": [
      "cpu\n"
     ]
    }
   ],
   "source": [
    "device = torch.device('cuda' if torch.cuda.is_available() else 'cpu')\n",
    "print(device)"
   ]
  },
  {
   "cell_type": "code",
   "execution_count": 176,
   "metadata": {},
   "outputs": [],
   "source": [
    "BATCH_SIZE = 128\n",
    "LEARNING_RATE = 0.001\n",
    "GAMMA = 0.99\n",
    "TAU = 0.001"
   ]
  },
  {
   "cell_type": "code",
   "execution_count": 177,
   "metadata": {},
   "outputs": [],
   "source": [
    "loss_function = nn.MSELoss()\n",
    "def dqn_update(batch_size,\n",
    "                 gamma=0.99,\n",
    "                 tau=0.001):\n",
    "    state, action, reward, state_plus_1 = replay_buffer.pull_from_memory(batch_size)\n",
    "    \n",
    "    state      = torch.FloatTensor(state)\n",
    "    state_plus_1 = torch.FloatTensor(state_plus_1)\n",
    "    action     = torch.LongTensor(np.reshape(action, (BATCH_SIZE, 1)))\n",
    "    reward     = torch.FloatTensor(reward).unsqueeze(1)\n",
    "    \n",
    "    predicted_q_value = dqn_net.forward(state)\n",
    "    predicted_q_value = predicted_q_value.gather(1,action)\n",
    "    q_value_plus_1_target = dqn_target_net.forward(state_plus_1).detach()\n",
    "    max_q_value_plus_1_target = q_value_plus_1_target.max(1)[0].unsqueeze(1)\n",
    "    expected_q_value = reward + gamma*max_q_value_plus_1_target\n",
    "    \n",
    "    #print('predicted_q_value', predicted_q_value)\n",
    "    #print('predicted_q_value_1', predicted_q_value.shape)\n",
    "    #print('expected_q_value', expected_q_value)\n",
    "    #print('expected_q_value', expected_q_value)\n",
    "    \n",
    "    loss = loss_function(predicted_q_value, expected_q_value)\n",
    "    \n",
    "    dqn_optimizer.zero_grad()\n",
    "    loss.backward()\n",
    "    dqn_optimizer.step()\n",
    "    \n",
    "    for target_param, param in zip(dqn_target_net.parameters(), dqn_net.parameters()):\n",
    "        target_param.data.copy_(\n",
    "            target_param.data * (1.0 - tau) + param.data * tau\n",
    "        )      "
   ]
  },
  {
   "cell_type": "code",
   "execution_count": 205,
   "metadata": {},
   "outputs": [],
   "source": [
    "learning_rate = 0.001\n",
    "hidden_dimension = 64\n",
    "\n",
    "dqn_net = DQN(state_dim=state_dimension, hidden_dim=hidden_dimension, action_dim=action_dimension)\n",
    "dqn_target_net = DQN(state_dim=state_dimension, hidden_dim=hidden_dimension, action_dim=action_dimension)\n",
    "\n",
    "for target_param, param in zip(dqn_target_net.parameters(), dqn_net.parameters()):\n",
    "    target_param.data.copy_(param.data)\n",
    "    \n",
    "dqn_optimizer  = optim.Adam(dqn_net.parameters(), lr=learning_rate)\n",
    "\n",
    "replay_memory_size = 2000\n",
    "replay_buffer = ReplayMemory(replay_memory_size)"
   ]
  },
  {
   "cell_type": "code",
   "execution_count": 206,
   "metadata": {},
   "outputs": [],
   "source": [
    "max_frames  = 300\n",
    "max_steps   = 200\n",
    "frame_idx   = 0\n",
    "rewards     = []\n",
    "batch_size  = 128"
   ]
  },
  {
   "cell_type": "code",
   "execution_count": 207,
   "metadata": {},
   "outputs": [],
   "source": [
    "exploration_rate = 1\n",
    "max_exploration_rate = 1\n",
    "min_exploration_rate = 0.01\n",
    "exploration_decay_rate = 0.02"
   ]
  },
  {
   "cell_type": "code",
   "execution_count": 208,
   "metadata": {},
   "outputs": [],
   "source": [
    "def reward_func(env, x, x_dot, theta, theta_dot):\n",
    "    r1 = (env.x_threshold - abs(x))/env.x_threshold - 0.5\n",
    "    r2 = (env.theta_threshold_radians - abs(theta)) / env.theta_threshold_radians - 0.5\n",
    "    reward = r1 + r2\n",
    "    return reward"
   ]
  },
  {
   "cell_type": "code",
   "execution_count": 209,
   "metadata": {},
   "outputs": [],
   "source": [
    "c_constant = 2\n",
    "number_times_action_selected = np.zeros(action_dimension)\n",
    "def ucb_exploration(action, episode):\n",
    "    print('ucb', c_constant*np.sqrt(np.log(episode + 0.1)/(number_times_action_selected + 0.1)))\n",
    "    return np.argmax(action + c_constant*np.sqrt(np.log(episode + 0.1)/(number_times_action_selected + 0.1)))"
   ]
  },
  {
   "cell_type": "code",
   "execution_count": null,
   "metadata": {},
   "outputs": [],
   "source": [
    "while frame_idx < max_frames:\n",
    "    state = env.reset()\n",
    "    episode_reward = 0\n",
    "    print(f'Episode {frame_idx}')\n",
    "    frame_idx += 1\n",
    "    while True:\n",
    "        env.render()\n",
    "        action = dqn_net.forward(state)\n",
    "        #print(action)\n",
    "        \n",
    "        #exploration_rate_threshold = random.uniform(0,1)\n",
    "        #if exploration_rate_threshold > exploration_rate:\n",
    "        #    action = np.argmax(action.detach().numpy())\n",
    "        #else:\n",
    "        #    action = env.action_space.sample()\n",
    "        \n",
    "        action = ucb_exploration(action.detach().numpy(), frame_idx)\n",
    "        number_times_action_selected[action] += 1\n",
    "        \n",
    "        state_plus_1, reward, done, _ = env.step(action)\n",
    "        x, x_dot, theta, theta_dot = state_plus_1\n",
    "        reward = reward_func(env, x, x_dot, theta, theta_dot)\n",
    "        \n",
    "        replay_buffer.push_to_memory(state, action, reward, state_plus_1)\n",
    "        if len(replay_buffer) > batch_size:\n",
    "            dqn_update(batch_size)\n",
    "        \n",
    "        state = state_plus_1\n",
    "        episode_reward += reward\n",
    "        \n",
    "        if done:\n",
    "            break\n",
    "            \n",
    "    exploration_rate = (min_exploration_rate +\n",
    "                (max_exploration_rate - min_exploration_rate)* np.exp(-exploration_decay_rate*frame_idx))\n",
    "    print(f'Exploration Rate: {exploration_rate}')\n",
    "    rewards.append(episode_reward)\n",
    "    if len(replay_buffer) > batch_size:\n",
    "        plot(frame_idx, rewards)"
   ]
  },
  {
   "cell_type": "code",
   "execution_count": 211,
   "metadata": {},
   "outputs": [],
   "source": [
    "env.close()"
   ]
  },
  {
   "cell_type": "code",
   "execution_count": 191,
   "metadata": {},
   "outputs": [
    {
     "data": {
      "text/plain": [
       "array([8754., 8898.])"
      ]
     },
     "execution_count": 191,
     "metadata": {},
     "output_type": "execute_result"
    }
   ],
   "source": [
    "number_times_action_selected"
   ]
  },
  {
   "cell_type": "code",
   "execution_count": 192,
   "metadata": {},
   "outputs": [
    {
     "data": {
      "text/plain": [
       "137"
      ]
     },
     "execution_count": 192,
     "metadata": {},
     "output_type": "execute_result"
    }
   ],
   "source": [
    "frame_idx"
   ]
  },
  {
   "cell_type": "code",
   "execution_count": 194,
   "metadata": {},
   "outputs": [
    {
     "data": {
      "text/plain": [
       "array([0.04741745, 0.0470322 ])"
      ]
     },
     "execution_count": 194,
     "metadata": {},
     "output_type": "execute_result"
    }
   ],
   "source": [
    "c_constant*np.sqrt(np.log(frame_idx + 0.1)/(number_times_action_selected + 0.1))"
   ]
  },
  {
   "cell_type": "code",
   "execution_count": 61,
   "metadata": {},
   "outputs": [
    {
     "data": {
      "text/plain": [
       "[(array([ 0.01727837,  0.01611381, -0.00103716, -0.00448303]),\n",
       "  1,\n",
       "  1.0,\n",
       "  array([ 0.01760065,  0.21125062, -0.00112682, -0.29749301])),\n",
       " (array([ 0.01760065,  0.21125062, -0.00112682, -0.29749301]),\n",
       "  1,\n",
       "  1.0,\n",
       "  array([ 0.02182566,  0.40638861, -0.00707668, -0.5905311 ]))]"
      ]
     },
     "execution_count": 61,
     "metadata": {},
     "output_type": "execute_result"
    }
   ],
   "source": [
    "replay_buffer.memory[:2]"
   ]
  },
  {
   "cell_type": "code",
   "execution_count": 22,
   "metadata": {},
   "outputs": [],
   "source": [
    "state, action, reward, state_plus_1 = replay_buffer.pull_from_memory(batch_size)"
   ]
  },
  {
   "cell_type": "code",
   "execution_count": 23,
   "metadata": {},
   "outputs": [
    {
     "data": {
      "text/plain": [
       "array([[ 0.03424755, -0.38030714, -0.10752469,  0.29877404],\n",
       "       [-0.07371958,  0.02698061, -0.07175335, -0.66582794]])"
      ]
     },
     "execution_count": 23,
     "metadata": {},
     "output_type": "execute_result"
    }
   ],
   "source": [
    "state_plus_1[:2]"
   ]
  },
  {
   "cell_type": "code",
   "execution_count": 24,
   "metadata": {},
   "outputs": [],
   "source": [
    "state_plus_1 = torch.FloatTensor(state_plus_1)"
   ]
  },
  {
   "cell_type": "code",
   "execution_count": 25,
   "metadata": {},
   "outputs": [
    {
     "data": {
      "text/plain": [
       "tensor([[ 0.0342, -0.3803, -0.1075,  0.2988],\n",
       "        [-0.0737,  0.0270, -0.0718, -0.6658]])"
      ]
     },
     "execution_count": 25,
     "metadata": {},
     "output_type": "execute_result"
    }
   ],
   "source": [
    "state_plus_1[:2]"
   ]
  },
  {
   "cell_type": "code",
   "execution_count": 143,
   "metadata": {},
   "outputs": [
    {
     "data": {
      "text/plain": [
       "tensor(0.0491, grad_fn=<MaxBackward1>)"
      ]
     },
     "execution_count": 143,
     "metadata": {},
     "output_type": "execute_result"
    }
   ],
   "source": [
    "torch.max(dqn_target_net.forward(state_plus_1))"
   ]
  },
  {
   "cell_type": "code",
   "execution_count": 26,
   "metadata": {
    "collapsed": true,
    "jupyter": {
     "outputs_hidden": true
    }
   },
   "outputs": [
    {
     "name": "stdout",
     "output_type": "stream",
     "text": [
      "q_value_plus_1_target tensor([[-0.0885,  0.0358],\n",
      "        [-0.0114, -0.0184],\n",
      "        [-0.0461,  0.0062],\n",
      "        [-0.0979,  0.0443],\n",
      "        [-0.0067, -0.0206],\n",
      "        [-0.0028, -0.0216],\n",
      "        [-0.0082, -0.0191],\n",
      "        [-0.0746,  0.0243],\n",
      "        [-0.1686,  0.0204],\n",
      "        [-0.0834,  0.0317],\n",
      "        [-0.0385,  0.0006],\n",
      "        [ 0.0272, -0.0459],\n",
      "        [ 0.0788, -0.0783],\n",
      "        [-0.0486,  0.0100],\n",
      "        [-0.0401,  0.0069],\n",
      "        [-0.0666,  0.0232],\n",
      "        [ 0.0172, -0.0318],\n",
      "        [-0.1117,  0.0486],\n",
      "        [-0.2026,  0.0212],\n",
      "        [ 0.0149, -0.0364],\n",
      "        [-0.0376, -0.0014],\n",
      "        [-0.0169, -0.0112],\n",
      "        [-0.0116, -0.0179],\n",
      "        [-0.0963,  0.0392],\n",
      "        [-0.0278, -0.0077],\n",
      "        [-0.0325,  0.0022],\n",
      "        [-0.0816,  0.0227],\n",
      "        [ 0.0044, -0.0276],\n",
      "        [-0.1167,  0.0264],\n",
      "        [-0.0563,  0.0127],\n",
      "        [-0.0365, -0.0018],\n",
      "        [ 0.0358, -0.0464],\n",
      "        [-0.0685,  0.0218],\n",
      "        [-0.0262, -0.0082],\n",
      "        [-0.0893,  0.0319],\n",
      "        [-0.1288,  0.0226],\n",
      "        [ 0.0645, -0.0711],\n",
      "        [-0.0237, -0.0091],\n",
      "        [-0.0198, -0.0100],\n",
      "        [-0.0000, -0.0267],\n",
      "        [-0.0244, -0.0032],\n",
      "        [-0.0893,  0.0343],\n",
      "        [-0.1081,  0.0414],\n",
      "        [-0.0372, -0.0001],\n",
      "        [ 0.0175, -0.0350],\n",
      "        [-0.1438,  0.0279],\n",
      "        [-0.0829,  0.0287],\n",
      "        [-0.0118, -0.0133],\n",
      "        [-0.0728,  0.0277],\n",
      "        [-0.0602,  0.0140],\n",
      "        [-0.0528,  0.0167],\n",
      "        [-0.0488,  0.0074],\n",
      "        [-0.0613,  0.0155],\n",
      "        [ 0.0619, -0.0654],\n",
      "        [-0.0520,  0.0093],\n",
      "        [-0.1026,  0.0423],\n",
      "        [-0.1726,  0.0229],\n",
      "        [-0.0234, -0.0103],\n",
      "        [-0.0018, -0.0245],\n",
      "        [-0.1027,  0.0240],\n",
      "        [-0.0372, -0.0007],\n",
      "        [ 0.0555, -0.0656],\n",
      "        [-0.0674,  0.0259],\n",
      "        [ 0.0476, -0.0564],\n",
      "        [-0.1303,  0.0277],\n",
      "        [-0.0496,  0.0082],\n",
      "        [-0.0314, -0.0045],\n",
      "        [-0.0464,  0.0097],\n",
      "        [-0.2119,  0.0881],\n",
      "        [-0.1239,  0.0517],\n",
      "        [-0.0688,  0.0237],\n",
      "        [-0.0804,  0.0272],\n",
      "        [-0.0117, -0.0144],\n",
      "        [-0.1622,  0.0207],\n",
      "        [-0.0636,  0.0194],\n",
      "        [-0.1580,  0.0236],\n",
      "        [ 0.0194, -0.0386],\n",
      "        [-0.1516,  0.0191],\n",
      "        [-0.1023,  0.0410],\n",
      "        [-0.0671,  0.0168],\n",
      "        [-0.0285, -0.0055],\n",
      "        [-0.0884,  0.0202],\n",
      "        [-0.1434,  0.0235],\n",
      "        [-0.0514,  0.0092],\n",
      "        [-0.0278, -0.0048],\n",
      "        [-0.0860,  0.0285],\n",
      "        [-0.1855,  0.0210],\n",
      "        [-0.0398,  0.0051],\n",
      "        [ 0.0052, -0.0244],\n",
      "        [-0.0625,  0.0143],\n",
      "        [-0.0792,  0.0277],\n",
      "        [-0.2007,  0.0834],\n",
      "        [ 0.0348, -0.0501],\n",
      "        [-0.1004,  0.0382],\n",
      "        [-0.0246, -0.0050],\n",
      "        [ 0.0331, -0.0474],\n",
      "        [-0.0617,  0.0165],\n",
      "        [-0.1091,  0.0303],\n",
      "        [-0.0054, -0.0227],\n",
      "        [-0.0544,  0.0117],\n",
      "        [-0.1467,  0.0634],\n",
      "        [-0.0027, -0.0217],\n",
      "        [-0.0955,  0.0272],\n",
      "        [-0.0584,  0.0192],\n",
      "        [-0.1046,  0.0423],\n",
      "        [-0.0697,  0.0208],\n",
      "        [-0.0731,  0.0239],\n",
      "        [-0.1689,  0.0734],\n",
      "        [-0.0124, -0.0176],\n",
      "        [-0.1906,  0.0815],\n",
      "        [ 0.0259, -0.0442],\n",
      "        [-0.0904,  0.0360],\n",
      "        [-0.2142,  0.0873],\n",
      "        [-0.2232,  0.0904],\n",
      "        [ 0.0148, -0.0367],\n",
      "        [-0.0525,  0.0092],\n",
      "        [-0.0636,  0.0177],\n",
      "        [ 0.0148, -0.0342],\n",
      "        [-0.0041, -0.0225],\n",
      "        [-0.0784,  0.0326],\n",
      "        [-0.0362,  0.0004],\n",
      "        [-0.0410,  0.0020],\n",
      "        [-0.0462,  0.0110],\n",
      "        [ 0.0953, -0.0922],\n",
      "        [-0.0008, -0.0177],\n",
      "        [ 0.0160, -0.0367],\n",
      "        [-0.0379,  0.0045],\n",
      "        [ 0.0041, -0.0276]])\n"
     ]
    }
   ],
   "source": [
    "q_value_plus_1_target = dqn_target_net.forward(state_plus_1).detach()\n",
    "print('q_value_plus_1_target', q_value_plus_1_target)"
   ]
  },
  {
   "cell_type": "code",
   "execution_count": 36,
   "metadata": {},
   "outputs": [
    {
     "data": {
      "text/plain": [
       "tensor([[-0.0885,  0.0358],\n",
       "        [-0.0114, -0.0184]])"
      ]
     },
     "execution_count": 36,
     "metadata": {},
     "output_type": "execute_result"
    }
   ],
   "source": [
    "q_value_plus_1_target[:2]"
   ]
  },
  {
   "cell_type": "code",
   "execution_count": 46,
   "metadata": {},
   "outputs": [
    {
     "data": {
      "text/plain": [
       "torch.Size([128, 1])"
      ]
     },
     "execution_count": 46,
     "metadata": {},
     "output_type": "execute_result"
    }
   ],
   "source": [
    "q_value_plus_1_target.max(1)[0].unsqueeze(1).shape"
   ]
  },
  {
   "cell_type": "code",
   "execution_count": 37,
   "metadata": {},
   "outputs": [
    {
     "data": {
      "text/plain": [
       "tensor(0.0953)"
      ]
     },
     "execution_count": 37,
     "metadata": {},
     "output_type": "execute_result"
    }
   ],
   "source": [
    "torch.max(q_value_plus_1_target)"
   ]
  },
  {
   "cell_type": "code",
   "execution_count": null,
   "metadata": {},
   "outputs": [],
   "source": []
  }
 ],
 "metadata": {
  "kernelspec": {
   "display_name": "Python 3",
   "language": "python",
   "name": "python3"
  },
  "language_info": {
   "codemirror_mode": {
    "name": "ipython",
    "version": 3
   },
   "file_extension": ".py",
   "mimetype": "text/x-python",
   "name": "python",
   "nbconvert_exporter": "python",
   "pygments_lexer": "ipython3",
   "version": "3.6.9"
  }
 },
 "nbformat": 4,
 "nbformat_minor": 4
}
